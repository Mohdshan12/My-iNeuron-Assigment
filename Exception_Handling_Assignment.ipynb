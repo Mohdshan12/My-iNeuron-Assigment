{
  "nbformat": 4,
  "nbformat_minor": 0,
  "metadata": {
    "colab": {
      "name": "Exception Handling Assignment.ipynb",
      "provenance": []
    },
    "kernelspec": {
      "name": "python3",
      "display_name": "Python 3"
    },
    "language_info": {
      "name": "python"
    }
  },
  "cells": [
    {
      "cell_type": "markdown",
      "metadata": {
        "id": "GmJ8-1baX8eW"
      },
      "source": [
        "##-------------------------------Exception Handling Assignment\n",
        "### NAME - Mohd Shan"
      ]
    },
    {
      "cell_type": "markdown",
      "metadata": {
        "id": "jMVP3hejYEEt"
      },
      "source": [
        "Problem 1. Write a function to compute 5/0 and use try/except to catch the exceptions."
      ]
    },
    {
      "cell_type": "code",
      "metadata": {
        "colab": {
          "base_uri": "https://localhost:8080/"
        },
        "id": "QW430-hsX5X9",
        "outputId": "73b2d5da-837d-4786-b4bc-3a09f172c221"
      },
      "source": [
        "\n",
        "def compute():\n",
        "    try:\n",
        "        c=5/0\n",
        "    except:\n",
        "        print('Error')\n",
        "        \n",
        "compute()"
      ],
      "execution_count": 1,
      "outputs": [
        {
          "output_type": "stream",
          "text": [
            "Error\n"
          ],
          "name": "stdout"
        }
      ]
    },
    {
      "cell_type": "markdown",
      "metadata": {
        "id": "LCh8qNCXYx4i"
      },
      "source": [
        "\n",
        "### Q2. Implement a Python program to generate all sentences where subject is in [\"Americans\", \"Indians\"] and verb is in [\"Play\", \"watch\"] and the object is in [\"Baseball\",\"cricket\"].\n",
        "Hint: Subject,Verb and Object should be declared in the program as shown below.\n",
        "subjects=[\"Americans \",\"Indians\"] verbs=[\"play\",\"watch\"] objects=[\"Baseball\",\"Cricket\"]"
      ]
    },
    {
      "cell_type": "markdown",
      "metadata": {
        "id": "phyTnJncZEGl"
      },
      "source": [
        "\n",
        "### Output should come as below:\n",
        "\n",
        "\n",
        "1. Americans play Baseball. \n",
        "2. Americans play Cricket. \n",
        "3. Americans watch Baseball. \n",
        "4. Americans watch Cricket. \n",
        "5. Indians play Baseball. \n",
        "6. Indians play Cricket. \n",
        "7. Indians watch Baseball. \n",
        "8. Indians watch Cricket."
      ]
    },
    {
      "cell_type": "code",
      "metadata": {
        "colab": {
          "base_uri": "https://localhost:8080/"
        },
        "id": "6sQLaSWsYqyp",
        "outputId": "24329ea4-5779-4a45-ae9a-a19cc5c89a2b"
      },
      "source": [
        "subjects=[\"Americans \",\"Indians\"] \n",
        "verbs=[\"play\",\"watch\"] \n",
        "objects=[\"Baseball\",\"Cricket\"]\n",
        "\n",
        "for x in range(0,len(subjects)):\n",
        "    for y in range(0,len(verbs)):\n",
        "        for z in range(0,len(objects)):\n",
        "            print(subjects[x]+\" \"+verbs[y]+\" \"+ objects[z]+\".\")"
      ],
      "execution_count": 2,
      "outputs": [
        {
          "output_type": "stream",
          "text": [
            "Americans  play Baseball.\n",
            "Americans  play Cricket.\n",
            "Americans  watch Baseball.\n",
            "Americans  watch Cricket.\n",
            "Indians play Baseball.\n",
            "Indians play Cricket.\n",
            "Indians watch Baseball.\n",
            "Indians watch Cricket.\n"
          ],
          "name": "stdout"
        }
      ]
    },
    {
      "cell_type": "code",
      "metadata": {
        "id": "-xoq7k9RZYbV"
      },
      "source": [
        ""
      ],
      "execution_count": null,
      "outputs": []
    }
  ]
}