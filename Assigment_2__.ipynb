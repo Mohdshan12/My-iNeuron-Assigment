{
  "nbformat": 4,
  "nbformat_minor": 0,
  "metadata": {
    "colab": {
      "name": "Assigment_2__.ipynb",
      "provenance": []
    },
    "kernelspec": {
      "name": "python3",
      "display_name": "Python 3"
    },
    "language_info": {
      "name": "python"
    }
  },
  "cells": [
    {
      "cell_type": "markdown",
      "metadata": {
        "id": "fsvUvplFmdIA"
      },
      "source": [
        "1. Create the below pattern using nested for loop in Python.\n"
      ]
    },
    {
      "cell_type": "code",
      "metadata": {
        "id": "bAhh3YvHmz5Z"
      },
      "source": [
        "\n",
        "# *\n",
        "# * *\n",
        "# * * *\n",
        "# * * * *\n",
        "# * * * * *\n",
        "# * * * *\n",
        "# * * *\n",
        "# * *\n",
        "# *"
      ],
      "execution_count": null,
      "outputs": []
    },
    {
      "cell_type": "code",
      "metadata": {
        "colab": {
          "base_uri": "https://localhost:8080/"
        },
        "id": "WmySFgdEnHjX",
        "outputId": "a71000bb-5a50-4e75-a3a1-d57d596c8b18"
      },
      "source": [
        "for i in range(5):\n",
        "  for i in range(i+1):\n",
        "    print('*', end = \" \")\n",
        "  print(\"\\n\")\n",
        "for i in range(4,0,-1):\n",
        "  for i in range(i):\n",
        "    print('*', end = \" \")\n",
        "  print(\"\\n\")"
      ],
      "execution_count": null,
      "outputs": [
        {
          "output_type": "stream",
          "text": [
            "* \n",
            "\n",
            "* * \n",
            "\n",
            "* * * \n",
            "\n",
            "* * * * \n",
            "\n",
            "* * * * * \n",
            "\n",
            "* * * * \n",
            "\n",
            "* * * \n",
            "\n",
            "* * \n",
            "\n",
            "* \n",
            "\n"
          ],
          "name": "stdout"
        }
      ]
    },
    {
      "cell_type": "markdown",
      "metadata": {
        "id": "DSNOPnZsrfgw"
      },
      "source": [
        "2. Write a Python program to reverse a word after accepting the input from the user.\n",
        "\n",
        "**Sample Output:**\n",
        "\n",
        "Input word: ineuron\n",
        "\n",
        "\n",
        "Output: norueni"
      ]
    },
    {
      "cell_type": "code",
      "metadata": {
        "colab": {
          "base_uri": "https://localhost:8080/"
        },
        "id": "C4vYpnmcrrTk",
        "outputId": "e25b1f5a-f489-4a55-f5cd-b53bc68bb722"
      },
      "source": [
        "string = input(\"write string:-  \")\n",
        "print(string[::-1])"
      ],
      "execution_count": 12,
      "outputs": [
        {
          "output_type": "stream",
          "text": [
            "write string:-  ineuron\n",
            "norueni\n"
          ],
          "name": "stdout"
        }
      ]
    },
    {
      "cell_type": "code",
      "metadata": {
        "id": "uQf73ixtsAYi"
      },
      "source": [
        ""
      ],
      "execution_count": null,
      "outputs": []
    }
  ]
}