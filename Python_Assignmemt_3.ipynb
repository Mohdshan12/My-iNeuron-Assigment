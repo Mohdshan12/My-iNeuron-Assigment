{
  "nbformat": 4,
  "nbformat_minor": 0,
  "metadata": {
    "colab": {
      "name": "Python_Assignmemt_3.ipynb",
      "provenance": []
    },
    "kernelspec": {
      "name": "python3",
      "display_name": "Python 3"
    },
    "language_info": {
      "name": "python"
    }
  },
  "cells": [
    {
      "cell_type": "markdown",
      "metadata": {
        "id": "D9tLHdq6SIHJ"
      },
      "source": [
        "##-------------------------------PYTHON ASSIGNMENT -3\n",
        "### NAME - Mohd Shan"
      ]
    },
    {
      "cell_type": "markdown",
      "metadata": {
        "id": "0q4GgiFJR7T7"
      },
      "source": [
        "Problem 1 - Write a Python Program to implement your own myreduce() function which works exactly like Python's built-in function reduce()"
      ]
    },
    {
      "cell_type": "code",
      "metadata": {
        "colab": {
          "base_uri": "https://localhost:8080/"
        },
        "id": "qNJf-x_rR5Jl",
        "outputId": "dd6ee312-21af-47c3-837e-f2f56526716a"
      },
      "source": [
        "def myreduce_func(function, my_list):\n",
        "    result = my_list[0]\n",
        "    for item in my_list[1:]:\n",
        "        result = function(result, item)\n",
        "    return result\n",
        "def sum(x,y): \n",
        "    return x + y\n",
        "print (myreduce_func(sum,[1, 2, 3, 4]))"
      ],
      "execution_count": 2,
      "outputs": [
        {
          "output_type": "stream",
          "text": [
            "10\n"
          ],
          "name": "stdout"
        }
      ]
    },
    {
      "cell_type": "markdown",
      "metadata": {
        "id": "v3a-OrWNS-bx"
      },
      "source": [
        "### problem - 2-- Write a Python program to implement your own myfilter() function which works exactly like Python's built-in function filter()"
      ]
    },
    {
      "cell_type": "code",
      "metadata": {
        "colab": {
          "base_uri": "https://localhost:8080/"
        },
        "id": "A4vhKcN9TTr0",
        "outputId": "e5c9ebf4-3541-49f1-ff68-85297ae819d2"
      },
      "source": [
        "\n",
        "def myfilter_func(anyfunc, sequence):\n",
        "    result = []\n",
        "    for item in sequence:\n",
        "        if anyfunc(item):\n",
        "            result.append(item)\n",
        "    return result\n",
        "def ispositive(x):\n",
        "    if (x <= 0): \n",
        "        return False \n",
        "    else: \n",
        "        return True\n",
        "print(myfilter_func(ispositive,[1,-1,3,4,-5]))"
      ],
      "execution_count": 3,
      "outputs": [
        {
          "output_type": "stream",
          "text": [
            "[1, 3, 4]\n"
          ],
          "name": "stdout"
        }
      ]
    },
    {
      "cell_type": "markdown",
      "metadata": {
        "id": "vYVXefiHUNEu"
      },
      "source": [
        "\n",
        "Problem 3 - .Implement List comprehensions to produce the following lists.Write List comprehensions to produce the following Lists."
      ]
    },
    {
      "cell_type": "code",
      "metadata": {
        "colab": {
          "base_uri": "https://localhost:8080/"
        },
        "id": "D7PKCwgkTwfL",
        "outputId": "e9e21477-e7ca-4e66-e20d-6f18a2184a6b"
      },
      "source": [
        "l1 = ['x', 'y', 'z']\n",
        "lst1 = [i*j for j in l1 for i in range(1, 5)]\n",
        "print(lst1)"
      ],
      "execution_count": 4,
      "outputs": [
        {
          "output_type": "stream",
          "text": [
            "['x', 'xx', 'xxx', 'xxxx', 'y', 'yy', 'yyy', 'yyyy', 'z', 'zz', 'zzz', 'zzzz']\n"
          ],
          "name": "stdout"
        }
      ]
    },
    {
      "cell_type": "code",
      "metadata": {
        "colab": {
          "base_uri": "https://localhost:8080/"
        },
        "id": "DMohmwPfUh8m",
        "outputId": "2c75f85e-f350-40fb-f25b-ce19c10c7f5b"
      },
      "source": [
        "l2 = ['x', 'y', 'z']\n",
        "lst2 = [i*j for j in range(1, 5) for i in l2]\n",
        "lst2"
      ],
      "execution_count": 5,
      "outputs": [
        {
          "output_type": "execute_result",
          "data": {
            "text/plain": [
              "['x', 'y', 'z', 'xx', 'yy', 'zz', 'xxx', 'yyy', 'zzz', 'xxxx', 'yyyy', 'zzzz']"
            ]
          },
          "metadata": {
            "tags": []
          },
          "execution_count": 5
        }
      ]
    },
    {
      "cell_type": "code",
      "metadata": {
        "colab": {
          "base_uri": "https://localhost:8080/"
        },
        "id": "bJ7buW5hUvbf",
        "outputId": "96412c3b-2be9-48af-f01e-0badf9fe15f8"
      },
      "source": [
        "lst3 = [[x + y] for y in range(3) for x in range(2, 5)]\n",
        "lst3"
      ],
      "execution_count": 6,
      "outputs": [
        {
          "output_type": "execute_result",
          "data": {
            "text/plain": [
              "[[2], [3], [4], [3], [4], [5], [4], [5], [6]]"
            ]
          },
          "metadata": {
            "tags": []
          },
          "execution_count": 6
        }
      ]
    },
    {
      "cell_type": "code",
      "metadata": {
        "colab": {
          "base_uri": "https://localhost:8080/"
        },
        "id": "qUHiDpOdU78J",
        "outputId": "f1c3d7d0-4043-4674-ca6a-58b597a27657"
      },
      "source": [
        "lst4 = [[a+b for b in range(2, 6)] for a in range(4)]\n",
        "lst4"
      ],
      "execution_count": 7,
      "outputs": [
        {
          "output_type": "execute_result",
          "data": {
            "text/plain": [
              "[[2, 3, 4, 5], [3, 4, 5, 6], [4, 5, 6, 7], [5, 6, 7, 8]]"
            ]
          },
          "metadata": {
            "tags": []
          },
          "execution_count": 7
        }
      ]
    },
    {
      "cell_type": "code",
      "metadata": {
        "colab": {
          "base_uri": "https://localhost:8080/"
        },
        "id": "ZKdfSSqpVEMN",
        "outputId": "17ced599-4814-47e1-e42f-7e28a3453895"
      },
      "source": [
        "lst5 = [(p, q) for q in range(1, 4) for p in range(1, 4)]\n",
        "lst5"
      ],
      "execution_count": 8,
      "outputs": [
        {
          "output_type": "execute_result",
          "data": {
            "text/plain": [
              "[(1, 1), (2, 1), (3, 1), (1, 2), (2, 2), (3, 2), (1, 3), (2, 3), (3, 3)]"
            ]
          },
          "metadata": {
            "tags": []
          },
          "execution_count": 8
        }
      ]
    },
    {
      "cell_type": "code",
      "metadata": {
        "id": "QEsBmp_dVFuD"
      },
      "source": [
        ""
      ],
      "execution_count": null,
      "outputs": []
    }
  ]
}